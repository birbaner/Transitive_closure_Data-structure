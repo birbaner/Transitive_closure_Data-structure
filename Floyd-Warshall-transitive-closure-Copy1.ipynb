{
 "cells": [
  {
   "cell_type": "code",
   "execution_count": 1,
   "id": "624c88ae",
   "metadata": {},
   "outputs": [],
   "source": [
    "def compute_Gk(G, k):\n",
    "    N = len(G)\n",
    "    Gk = [[False for _ in range(N)] for _ in range(N)]\n",
    "\n",
    "    for i in range(N):\n",
    "        for j in range(N):\n",
    "            Gk[i][j] = False\n",
    "            for h in range(N):\n",
    "                Gk[i][j] = Gk[i][j] or (G[i][h] and G[h][j])\n",
    "\n",
    "    return Gk\n"
   ]
  },
  {
   "cell_type": "code",
   "execution_count": 5,
   "id": "97d22609",
   "metadata": {},
   "outputs": [],
   "source": [
    "INF = 999\n",
    "\n",
    "def transitive_closure(G):\n",
    "    N = len(G)\n",
    "    G_plus = [row[:] for row in G]  # Initialize G+ with a copy of G\n",
    "\n",
    "    for k in range(2, N+1):\n",
    "        Gk = compute_Gk(G_plus, k)\n",
    "        for i in range(N):\n",
    "            for j in range(N):\n",
    "                G_plus[i][j] = G_plus[i][j] or Gk[i][j]\n",
    "\n",
    "    return G_plus\n"
   ]
  },
  {
   "cell_type": "code",
   "execution_count": 6,
   "id": "1c79a688",
   "metadata": {},
   "outputs": [
    {
     "name": "stdout",
     "output_type": "stream",
     "text": [
      "[50, 5, 999, 999]\n",
      "[50, 5, 15, 5]\n",
      "[30, 999, 999, 15]\n",
      "[15, 999, 5, 999]\n"
     ]
    }
   ],
   "source": [
    "# Example graph G represented as an adjacency matrix\n",
    "G = [[0, 5, INF, INF],\n",
    "         [50, 0, 15, 5],\n",
    "         [30, INF, 0, 15],\n",
    "         [15, INF, 5, 0]]\n",
    "\n",
    "G_plus = transitive_closure(G)\n",
    "\n",
    "# Print the transitive closure graph G+\n",
    "for row in G_plus:\n",
    "    print(row)\n"
   ]
  },
  {
   "cell_type": "code",
   "execution_count": null,
   "id": "ff88ff09",
   "metadata": {},
   "outputs": [],
   "source": []
  },
  {
   "cell_type": "code",
   "execution_count": 4,
   "id": "904e77d4",
   "metadata": {},
   "outputs": [
    {
     "name": "stdout",
     "output_type": "stream",
     "text": [
      "[True, True, True, True, True]\n",
      "[True, True, True, True, True]\n",
      "[True, True, True, True, True]\n",
      "[False, False, False, False, True]\n",
      "[False, False, False, False, False]\n"
     ]
    }
   ],
   "source": [
    "def compute_transitive_closure(G):\n",
    "    N = len(G)\n",
    "    G_plus = [row[:] for row in G]  # Initialize G+ to be a copy of G\n",
    "\n",
    "    for h in range(2, N + 1):\n",
    "        Gh = [[False for _ in range(N)] for _ in range(N)]\n",
    "        for i in range(N):\n",
    "            for j in range(N):\n",
    "                for k in range(N):\n",
    "                    Gh[i][j] = Gh[i][j] or (G_plus[i][k] and G[k][j])\n",
    "        for i in range(N):\n",
    "            for j in range(N):\n",
    "                G_plus[i][j] = G_plus[i][j] or Gh[i][j]\n",
    "\n",
    "    return G_plus\n",
    "\n",
    "# Example usage:\n",
    "# Assuming G is represented as a 2D boolean list where G[i][j] is True if there is an arc from node i to node j.\n",
    "G = [\n",
    "    [False, True, False, False, False],\n",
    "    [False, False, True, True, False],\n",
    "    [True, False, False, False, False],\n",
    "    [False, False, False, False, True],\n",
    "    [False, False, False, False, False]\n",
    "]\n",
    "\n",
    "transitive_closure_G = compute_transitive_closure(G)\n",
    "\n",
    "# Print the transitive closure of G\n",
    "for row in transitive_closure_G:\n",
    "    print(row)\n"
   ]
  },
  {
   "cell_type": "code",
   "execution_count": null,
   "id": "40f8b02d",
   "metadata": {},
   "outputs": [],
   "source": []
  },
  {
   "cell_type": "code",
   "execution_count": 3,
   "id": "f25c3969",
   "metadata": {},
   "outputs": [
    {
     "name": "stdout",
     "output_type": "stream",
     "text": [
      "[True, True, True, True, True]\n",
      "[True, True, True, True, True]\n",
      "[True, True, True, True, True]\n",
      "[False, False, False, False, True]\n",
      "[False, False, False, False, False]\n"
     ]
    }
   ],
   "source": [
    "def compute_transitive_closure(graph):\n",
    "    n = len(graph)\n",
    "\n",
    "    # Create a copy of the original graph G\n",
    "    g_plus = [row[:] for row in graph]\n",
    "\n",
    "    # Compute G2, G3, G4, ..., GN\n",
    "    for k in range(2, n + 1):\n",
    "        gk = [[False for _ in range(n)] for _ in range(n)]\n",
    "        for i in range(n):\n",
    "            for j in range(n):\n",
    "                for h in range(n):\n",
    "                    gk[i][j] = gk[i][j] or (g_plus[i][h] and graph[h][j])\n",
    "        g_plus = [[g_plus[i][j] or gk[i][j] for j in range(n)] for i in range(n)]\n",
    "\n",
    "    return g_plus\n",
    "\n",
    "# Example usage:\n",
    "# Assuming you have the original graph represented as an adjacency matrix\n",
    "# where graph[i][j] is True if there is an edge from node i to node j, and False otherwise.\n",
    "original_graph = [\n",
    "    [False, True, False, False, False],\n",
    "    [False, False, True, True, False],\n",
    "    [True, False, False, False, False],\n",
    "    [False, False, False, False, True],\n",
    "    [False, False, False, False, False]\n",
    "]\n",
    "\n",
    "transitive_closure = compute_transitive_closure(original_graph)\n",
    "for row in transitive_closure:\n",
    "    print(row)\n"
   ]
  },
  {
   "cell_type": "markdown",
   "id": "c202e2b5",
   "metadata": {},
   "source": [
    "################################################################################################"
   ]
  },
  {
   "cell_type": "code",
   "execution_count": 2,
   "id": "20f82de9",
   "metadata": {},
   "outputs": [
    {
     "name": "stdout",
     "output_type": "stream",
     "text": [
      "[True, True, True, True, True]\n",
      "[True, True, True, True, True]\n",
      "[True, True, True, True, True]\n",
      "[False, False, False, False, True]\n",
      "[False, False, False, False, False]\n"
     ]
    }
   ],
   "source": [
    "def compute_transitive_closure(G):\n",
    "    N = len(G)\n",
    "    G_plus = [[False for _ in range(N)] for _ in range(N)]\n",
    "\n",
    "    # Step 1: Initialize G+ with G (paths of length 1)\n",
    "    for i in range(N):\n",
    "        for j in range(N):\n",
    "            G_plus[i][j] = G[i][j]\n",
    "\n",
    "    # Step 2 and 3: Compute Gk and update G+ for k = 2 to N\n",
    "    for k in range(2, N + 1):\n",
    "        G_k = [[False for _ in range(N)] for _ in range(N)]\n",
    "\n",
    "        for i in range(N):\n",
    "            \n",
    "            for j in range(N):\n",
    "                for h in range(N):\n",
    "                    G_k[i][j] = G_k[i][j] or (G_plus[i][h] and G[h][j])\n",
    "\n",
    "        # Update G+ with the computed Gk\n",
    "        for i in range(N):\n",
    "            for j in range(N):\n",
    "                G_plus[i][j] = G_plus[i][j] or G_k[i][j]\n",
    "\n",
    "    return G_plus\n",
    "\n",
    "# Example usage:\n",
    "G = [\n",
    "    [False, True, False, False, False],\n",
    "    [False, False, True, True, False],\n",
    "    [True, False, False, False, False],\n",
    "    [False, False, False, False, True],\n",
    "    [False, False, False, False, False]\n",
    "]\n",
    "\n",
    "transitive_closure = compute_transitive_closure(G)\n",
    "for row in transitive_closure:\n",
    "    print(row)"
   ]
  },
  {
   "cell_type": "markdown",
   "id": "6df6eaaf",
   "metadata": {},
   "source": [
    "##########################################################################################################"
   ]
  },
  {
   "cell_type": "code",
   "execution_count": 5,
   "id": "75e9ae40",
   "metadata": {},
   "outputs": [
    {
     "ename": "FileNotFoundError",
     "evalue": "[Errno 2] No such file or directory: '-f'",
     "output_type": "error",
     "traceback": [
      "\u001b[1;31m---------------------------------------------------------------------------\u001b[0m",
      "\u001b[1;31mFileNotFoundError\u001b[0m                         Traceback (most recent call last)",
      "\u001b[1;32m~\\AppData\\Local\\Temp/ipykernel_23564/1166511527.py\u001b[0m in \u001b[0;36m<module>\u001b[1;34m\u001b[0m\n\u001b[0;32m     48\u001b[0m     \u001b[0moutput_file\u001b[0m \u001b[1;33m=\u001b[0m \u001b[0msys\u001b[0m\u001b[1;33m.\u001b[0m\u001b[0margv\u001b[0m\u001b[1;33m[\u001b[0m\u001b[1;36m2\u001b[0m\u001b[1;33m]\u001b[0m\u001b[1;33m\u001b[0m\u001b[1;33m\u001b[0m\u001b[0m\n\u001b[0;32m     49\u001b[0m \u001b[1;33m\u001b[0m\u001b[0m\n\u001b[1;32m---> 50\u001b[1;33m     \u001b[0mgraph\u001b[0m \u001b[1;33m=\u001b[0m \u001b[0mread_graph_from_file\u001b[0m\u001b[1;33m(\u001b[0m\u001b[0minput_file\u001b[0m\u001b[1;33m)\u001b[0m\u001b[1;33m\u001b[0m\u001b[1;33m\u001b[0m\u001b[0m\n\u001b[0m\u001b[0;32m     51\u001b[0m     \u001b[0mtransitive_closure\u001b[0m \u001b[1;33m=\u001b[0m \u001b[0mcompute_transitive_closure\u001b[0m\u001b[1;33m(\u001b[0m\u001b[0mgraph\u001b[0m\u001b[1;33m)\u001b[0m\u001b[1;33m\u001b[0m\u001b[1;33m\u001b[0m\u001b[0m\n\u001b[0;32m     52\u001b[0m     \u001b[0mwrite_transitive_closure_to_file\u001b[0m\u001b[1;33m(\u001b[0m\u001b[0mtransitive_closure\u001b[0m\u001b[1;33m,\u001b[0m \u001b[0moutput_file\u001b[0m\u001b[1;33m)\u001b[0m\u001b[1;33m\u001b[0m\u001b[1;33m\u001b[0m\u001b[0m\n",
      "\u001b[1;32m~\\AppData\\Local\\Temp/ipykernel_23564/1166511527.py\u001b[0m in \u001b[0;36mread_graph_from_file\u001b[1;34m(filename)\u001b[0m\n\u001b[0;32m      2\u001b[0m \u001b[1;33m\u001b[0m\u001b[0m\n\u001b[0;32m      3\u001b[0m \u001b[1;32mdef\u001b[0m \u001b[0mread_graph_from_file\u001b[0m\u001b[1;33m(\u001b[0m\u001b[0mfilename\u001b[0m\u001b[1;33m)\u001b[0m\u001b[1;33m:\u001b[0m\u001b[1;33m\u001b[0m\u001b[1;33m\u001b[0m\u001b[0m\n\u001b[1;32m----> 4\u001b[1;33m     \u001b[1;32mwith\u001b[0m \u001b[0mopen\u001b[0m\u001b[1;33m(\u001b[0m\u001b[0mfilename\u001b[0m\u001b[1;33m,\u001b[0m \u001b[1;34m'r'\u001b[0m\u001b[1;33m)\u001b[0m \u001b[1;32mas\u001b[0m \u001b[0mfile\u001b[0m\u001b[1;33m:\u001b[0m\u001b[1;33m\u001b[0m\u001b[1;33m\u001b[0m\u001b[0m\n\u001b[0m\u001b[0;32m      5\u001b[0m         \u001b[0mlines\u001b[0m \u001b[1;33m=\u001b[0m \u001b[0mfile\u001b[0m\u001b[1;33m.\u001b[0m\u001b[0mreadlines\u001b[0m\u001b[1;33m(\u001b[0m\u001b[1;33m)\u001b[0m\u001b[1;33m\u001b[0m\u001b[1;33m\u001b[0m\u001b[0m\n\u001b[0;32m      6\u001b[0m         \u001b[0mgraph\u001b[0m \u001b[1;33m=\u001b[0m \u001b[1;33m[\u001b[0m\u001b[1;33m]\u001b[0m\u001b[1;33m\u001b[0m\u001b[1;33m\u001b[0m\u001b[0m\n",
      "\u001b[1;31mFileNotFoundError\u001b[0m: [Errno 2] No such file or directory: '-f'"
     ]
    }
   ],
   "source": [
    "import sys\n",
    "\n",
    "def read_graph_from_file(filename):\n",
    "    with open(filename, 'r') as file:\n",
    "        lines = file.readlines()\n",
    "        graph = []\n",
    "        for line in lines:\n",
    "            row = [int(x) for x in line.strip().split()]\n",
    "            graph.append(row)\n",
    "        return graph\n",
    "\n",
    "def write_transitive_closure_to_file(graph, filename):\n",
    "    with open(filename, 'w') as file:\n",
    "        for row in graph:\n",
    "            file.write(' '.join(str(int(val)) for val in row) + '\\n')\n",
    "\n",
    "def compute_transitive_closure(graph):\n",
    "    N = len(graph)\n",
    "    G_plus = [[False for _ in range(N)] for _ in range(N)]\n",
    "\n",
    "    # Step 1: Initialize G+ with G (paths of length 1)\n",
    "    for i in range(N):\n",
    "        for j in range(N):\n",
    "            G_plus[i][j] = graph[i][j]\n",
    "\n",
    "    # Step 2 and 3: Compute Gk and update G+ for k = 2 to N\n",
    "    for k in range(2, N + 1):\n",
    "        G_k = [[False for _ in range(N)] for _ in range(N)]\n",
    "\n",
    "        for i in range(N):\n",
    "            for j in range(N):\n",
    "                for h in range(N):\n",
    "                    G_k[i][j] = G_k[i][j] or (G_plus[i][h] and graph[h][j])\n",
    "\n",
    "        # Update G+ with the computed Gk\n",
    "        for i in range(N):\n",
    "            for j in range(N):\n",
    "                G_plus[i][j] = G_plus[i][j] or G_k[i][j]\n",
    "\n",
    "    return G_plus\n",
    "\n",
    "if __name__ == \"__main__\":\n",
    "    if len(sys.argv) != 3:\n",
    "        print(\"Usage: python program_name.py input_file output_file\")\n",
    "        sys.exit(1)\n",
    "\n",
    "    input_file = sys.argv[1]\n",
    "    output_file = sys.argv[2]\n",
    "\n",
    "    graph = read_graph_from_file(input_file)\n",
    "    transitive_closure = compute_transitive_closure(graph)\n",
    "    write_transitive_closure_to_file(transitive_closure, output_file)\n"
   ]
  },
  {
   "cell_type": "code",
   "execution_count": null,
   "id": "15591f57",
   "metadata": {},
   "outputs": [],
   "source": []
  },
  {
   "cell_type": "code",
   "execution_count": null,
   "id": "9e8634ed",
   "metadata": {},
   "outputs": [],
   "source": []
  },
  {
   "cell_type": "code",
   "execution_count": null,
   "id": "38aa819a",
   "metadata": {},
   "outputs": [],
   "source": []
  },
  {
   "cell_type": "code",
   "execution_count": null,
   "id": "076b7fa8",
   "metadata": {},
   "outputs": [],
   "source": []
  },
  {
   "cell_type": "code",
   "execution_count": null,
   "id": "827f95e1",
   "metadata": {},
   "outputs": [],
   "source": []
  },
  {
   "cell_type": "code",
   "execution_count": null,
   "id": "8afea44c",
   "metadata": {},
   "outputs": [],
   "source": []
  },
  {
   "cell_type": "code",
   "execution_count": null,
   "id": "7b6e2e4c",
   "metadata": {},
   "outputs": [],
   "source": []
  }
 ],
 "metadata": {
  "kernelspec": {
   "display_name": "Python 3 (ipykernel)",
   "language": "python",
   "name": "python3"
  },
  "language_info": {
   "codemirror_mode": {
    "name": "ipython",
    "version": 3
   },
   "file_extension": ".py",
   "mimetype": "text/x-python",
   "name": "python",
   "nbconvert_exporter": "python",
   "pygments_lexer": "ipython3",
   "version": "3.11.5"
  }
 },
 "nbformat": 4,
 "nbformat_minor": 5
}
